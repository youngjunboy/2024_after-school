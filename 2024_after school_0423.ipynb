{
 "cells": [
  {
   "cell_type": "code",
   "execution_count": 9,
   "id": "3c939d00",
   "metadata": {},
   "outputs": [
    {
     "name": "stdout",
     "output_type": "stream",
     "text": [
      "<__main__.student object at 0x000001F6124F4910>\n"
     ]
    }
   ],
   "source": [
    "class student:\n",
    "    num = -1\n",
    "    name = \"\"\n",
    "    \n",
    "    def __init__(self,num,name) :\n",
    "        self.num = num\n",
    "        self.name = name\n",
    "        \n",
    "    def get_info(self) :\n",
    "        return (self.num,self.name)\n",
    "print(student(17,'홍영준'))"
   ]
  },
  {
   "cell_type": "code",
   "execution_count": 30,
   "id": "032bd0bc",
   "metadata": {},
   "outputs": [],
   "source": [
    "class room :\n",
    "    num = -1\n",
    "    \n",
    "    def __init__(self,num):\n",
    "        self.num = num\n",
    "        self.stu_dict = dict()\n",
    "        \n",
    "    def is_in_stu_num(self,num) :\n",
    "        if(num in self.stu_dict) :\n",
    "            return True\n",
    "        else :\n",
    "            return False\n",
    "    def get_stu_info(self,num) :\n",
    "        try :\n",
    "            return self.stu_dict(num)\n",
    "        except keyError :\n",
    "            return \"\"\n",
    "    def add_stu(self,stu) :\n",
    "        self.stu_dict[stu.get_info()[0]] = stu.get_info()[1]\n",
    "        \n",
    "    def del_stu(self,num) :\n",
    "        try :\n",
    "            del self.stu_dict[num]\n",
    "        except KeyError :\n",
    "            pass\n",
    "    def mod_stu(self, stu_num, stu_name) :\n",
    "        try :\n",
    "            self.stu_dict[stu_num] = stu_name\n",
    "        except keyError :\n",
    "            pass"
   ]
  },
  {
   "cell_type": "code",
   "execution_count": 19,
   "id": "c3a5aa7f",
   "metadata": {},
   "outputs": [
    {
     "name": "stdout",
     "output_type": "stream",
     "text": [
      "이름을 입력하세요 : 홍영준\n",
      "나이를 입력하세요 : 19\n",
      "도시를 입력하세요 : 성남\n",
      "{'name': '홍영준', 'age': 19, 'city': '성남'}\n"
     ]
    },
    {
     "data": {
      "text/plain": [
       "dict"
      ]
     },
     "execution_count": 19,
     "metadata": {},
     "output_type": "execute_result"
    }
   ],
   "source": [
    "my_dict = {}\n",
    "\n",
    "name = input('이름을 입력하세요 : ')\n",
    "age = int(input('나이를 입력하세요 : '))\n",
    "city = input('도시를 입력하세요 : ')\n",
    "\n",
    "my_dict['name'] = name\n",
    "my_dict['age'] = age\n",
    "my_dict['city'] =  city\n",
    "\n",
    "print(my_dict)\n",
    "type(my_dict)"
   ]
  },
  {
   "cell_type": "code",
   "execution_count": 31,
   "id": "98836775",
   "metadata": {},
   "outputs": [
    {
     "data": {
      "text/plain": [
       "{1: 'hong', 2: 'lee'}"
      ]
     },
     "execution_count": 31,
     "metadata": {},
     "output_type": "execute_result"
    }
   ],
   "source": [
    "student1 = student(1,'hong')\n",
    "room1 = room(1)\n",
    "room1.add_stu(student1)\n",
    "room1.mod_stu(2,'lee')\n",
    "room1.stu_dict"
   ]
  }
 ],
 "metadata": {
  "kernelspec": {
   "display_name": "Python 3 (ipykernel)",
   "language": "python",
   "name": "python3"
  },
  "language_info": {
   "codemirror_mode": {
    "name": "ipython",
    "version": 3
   },
   "file_extension": ".py",
   "mimetype": "text/x-python",
   "name": "python",
   "nbconvert_exporter": "python",
   "pygments_lexer": "ipython3",
   "version": "3.10.9"
  }
 },
 "nbformat": 4,
 "nbformat_minor": 5
}
