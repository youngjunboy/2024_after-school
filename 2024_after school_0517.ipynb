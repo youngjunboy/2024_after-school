{
 "cells": [
  {
   "cell_type": "code",
   "execution_count": 13,
   "id": "d8f4c050",
   "metadata": {},
   "outputs": [
    {
     "name": "stdout",
     "output_type": "stream",
     "text": [
      "5 * 4 * 3 * 2 * 1 * 결과 : 120\n"
     ]
    }
   ],
   "source": [
    "def factorial(n):\n",
    "    print(f'{n} * ', end = '')\n",
    "    if n == 1:\n",
    "        return 1\n",
    "    return n * factorial(n - 1)\n",
    "\n",
    "print('결과 : ' + str(factorial(5)))"
   ]
  },
  {
   "cell_type": "code",
   "execution_count": 30,
   "id": "a8bc090b",
   "metadata": {},
   "outputs": [
    {
     "name": "stdout",
     "output_type": "stream",
     "text": [
      "최대공약수 : 5\n"
     ]
    }
   ],
   "source": [
    "def cgy(a,b):\n",
    "    c = min(a,b)\n",
    "    while True:\n",
    "        if a%c == 0 and b%c == 0:\n",
    "            return c\n",
    "        else:\n",
    "            c = c-1\n",
    "            \n",
    "d = cgy(5,10)\n",
    "    \n",
    "if d!=1:\n",
    "    print(f'최대공약수 : {d}')\n",
    "    \n",
    "else:\n",
    "    print(f'공약수 없다')"
   ]
  },
  {
   "cell_type": "code",
   "execution_count": 35,
   "id": "b4a1cada",
   "metadata": {},
   "outputs": [
    {
     "name": "stdout",
     "output_type": "stream",
     "text": [
      "최소공배수 : 10\n"
     ]
    }
   ],
   "source": [
    "def cgb(a,b):\n",
    "    for i in range(max(a,b),(a*b)+1):\n",
    "        if i%a == 0 and i%b == 0:\n",
    "            return i\n",
    "    \n",
    "res = cgb(5,10)\n",
    "print(f'최소공배수 : {res}')"
   ]
  }
 ],
 "metadata": {
  "kernelspec": {
   "display_name": "Python 3 (ipykernel)",
   "language": "python",
   "name": "python3"
  },
  "language_info": {
   "codemirror_mode": {
    "name": "ipython",
    "version": 3
   },
   "file_extension": ".py",
   "mimetype": "text/x-python",
   "name": "python",
   "nbconvert_exporter": "python",
   "pygments_lexer": "ipython3",
   "version": "3.10.9"
  }
 },
 "nbformat": 4,
 "nbformat_minor": 5
}
