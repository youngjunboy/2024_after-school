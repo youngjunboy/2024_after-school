{
 "cells": [
  {
   "cell_type": "code",
   "execution_count": 2,
   "id": "12d6dcf1",
   "metadata": {},
   "outputs": [
    {
     "name": "stdout",
     "output_type": "stream",
     "text": [
      "[False, False, False, False, False, False, False, False]\n",
      "<class 'list'>\n",
      "1 2 4 5 3 6 7 "
     ]
    }
   ],
   "source": [
    "graph = [\n",
    "    [],      # 0\n",
    "    [2, 3],  # 1\n",
    "    [4, 5],  # 2\n",
    "    [6],     # 3\n",
    "    [2, 5],  # 4\n",
    "    [2, 4],  # 5\n",
    "    [3, 7],  # 6\n",
    "    [6]      # 7\n",
    "]\n",
    "\n",
    "# 방문 정보를 기록하기 위한 리스트\n",
    "visited = [False] * 8\n",
    "print(visited)\n",
    "print(type(visited))\n",
    "def dfs(v):\n",
    "    # 방문 표시\n",
    "    visited[v] = True\n",
    "    print(v, end=' ')\n",
    "    # 그래프를 순환하면서 인접 노드들을 방문\n",
    "    for i in graph[v]:\n",
    "        # 만약 방문하지 않은 노드가 있다면\n",
    "        if not visited[i]:\n",
    "            # 탐색 시작\n",
    "            dfs(i)\n",
    "\n",
    "# 탐색 시작 노드 1을 넣어주며 dfs() 실행\n",
    "dfs(1)"
   ]
  },
  {
   "cell_type": "code",
   "execution_count": 4,
   "id": "ff223420",
   "metadata": {},
   "outputs": [
    {
     "name": "stdout",
     "output_type": "stream",
     "text": [
      "1 2 3 4 5 6 7 "
     ]
    }
   ],
   "source": [
    "from collections import deque\n",
    "\n",
    "graph = [\n",
    "    [],      # 0\n",
    "    [2, 3],  # 1 \n",
    "    [4, 5],  # 2\n",
    "    [6],     # 3\n",
    "    [2, 5],  # 4\n",
    "    [2, 4],  # 5\n",
    "    [3, 7],  # 6\n",
    "    [6]      # 7\n",
    "]\n",
    "\n",
    "visited = [False] * 8\n",
    "\n",
    "def bfs(v):\n",
    "    # 큐 생성 및 큐에 시작 노드 삽입\n",
    "    q = deque()\n",
    "    q.append(v)\n",
    "    # 아직 방문해야 하는 노드가 있다면\n",
    "    while q:\n",
    "        # 큐에서 노드를 꺼내서 x에 저장\n",
    "        x = q.popleft()\n",
    "        print(x, end=' ')\n",
    "        # 그래프를 탐색하다가 방문하지 않은 노드가 있다면\n",
    "        for i in graph[x]:\n",
    "            if not visited[i]:\n",
    "                # 큐에 방문하라고 삽입하고 방문 처리\n",
    "                q.append(i)\n",
    "                visited[i] = True\n",
    "\n",
    "bfs(1)"
   ]
  },
  {
   "cell_type": "code",
   "execution_count": 26,
   "id": "4ab88363",
   "metadata": {},
   "outputs": [
    {
     "data": {
      "text/plain": [
       "7.0710678118654755"
      ]
     },
     "execution_count": 26,
     "metadata": {},
     "output_type": "execute_result"
    }
   ],
   "source": [
    "import math\n",
    "x = [1,2,3,4,5]\n",
    "y = [1,2,3,4,5]\n",
    "def q(x,y):\n",
    "    return math.sqrt(x**2 + y**2)\n",
    "q(5,5)"
   ]
  },
  {
   "cell_type": "code",
   "execution_count": 35,
   "id": "730ce1ca",
   "metadata": {},
   "outputs": [
    {
     "data": {
      "text/plain": [
       "4.242640687119285"
      ]
     },
     "execution_count": 35,
     "metadata": {},
     "output_type": "execute_result"
    }
   ],
   "source": [
    "def q2(x1,y1,x2,y2):\n",
    "    return math.sqrt((x2 - x1)**2 + (y2 - y1)**2)\n",
    "q2(2,2,5,5)"
   ]
  },
  {
   "cell_type": "code",
   "execution_count": null,
   "id": "c5a9c6ec",
   "metadata": {},
   "outputs": [],
   "source": []
  }
 ],
 "metadata": {
  "kernelspec": {
   "display_name": "Python 3 (ipykernel)",
   "language": "python",
   "name": "python3"
  },
  "language_info": {
   "codemirror_mode": {
    "name": "ipython",
    "version": 3
   },
   "file_extension": ".py",
   "mimetype": "text/x-python",
   "name": "python",
   "nbconvert_exporter": "python",
   "pygments_lexer": "ipython3",
   "version": "3.10.9"
  }
 },
 "nbformat": 4,
 "nbformat_minor": 5
}
