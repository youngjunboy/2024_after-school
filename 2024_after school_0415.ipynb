{
 "cells": [
  {
   "cell_type": "code",
   "execution_count": 9,
   "id": "89ff76d4",
   "metadata": {},
   "outputs": [
    {
     "data": {
      "text/plain": [
       "{2, 3, 4, 6, 7, 8, 11}"
      ]
     },
     "execution_count": 9,
     "metadata": {},
     "output_type": "execute_result"
    }
   ],
   "source": [
    "list1 = [2,3,2,4,6,7,8,6,11]\n",
    "list1 = set(list1)\n",
    "list1"
   ]
  },
  {
   "cell_type": "code",
   "execution_count": 10,
   "id": "927be865",
   "metadata": {},
   "outputs": [
    {
     "data": {
      "text/plain": [
       "set"
      ]
     },
     "execution_count": 10,
     "metadata": {},
     "output_type": "execute_result"
    }
   ],
   "source": [
    "type(list1)"
   ]
  },
  {
   "cell_type": "code",
   "execution_count": 11,
   "id": "4707aecb",
   "metadata": {},
   "outputs": [
    {
     "data": {
      "text/plain": [
       "[2, 3, 4, 6, 7, 8, 11]"
      ]
     },
     "execution_count": 11,
     "metadata": {},
     "output_type": "execute_result"
    }
   ],
   "source": [
    "list1 = list(list1)\n",
    "list1"
   ]
  },
  {
   "cell_type": "code",
   "execution_count": 13,
   "id": "3a8f91b8",
   "metadata": {},
   "outputs": [
    {
     "data": {
      "text/plain": [
       "[1, 2, 3, 4, 5]"
      ]
     },
     "execution_count": 13,
     "metadata": {},
     "output_type": "execute_result"
    }
   ],
   "source": [
    "list2 = [x for x in range(1,6)]\n",
    "list2"
   ]
  },
  {
   "cell_type": "code",
   "execution_count": 38,
   "id": "d32831d0",
   "metadata": {},
   "outputs": [
    {
     "name": "stdout",
     "output_type": "stream",
     "text": [
      "i : 80\n",
      "i : 75\n",
      "i : 55\n",
      "합계 210\n",
      "평균 70\n"
     ]
    }
   ],
   "source": [
    "grade = [80,75,55]\n",
    "\n",
    "hap = 0\n",
    "\n",
    "for i in grade: \n",
    "    print(\"i :\",i)\n",
    "    hap = hap+i \n",
    "    \n",
    "print(f\"합계 {hap}\")\n",
    "print(f\"평균 {hap//3}\")"
   ]
  },
  {
   "cell_type": "code",
   "execution_count": 43,
   "id": "68936ca9",
   "metadata": {},
   "outputs": [
    {
     "name": "stdout",
     "output_type": "stream",
     "text": [
      "Odd\n"
     ]
    }
   ],
   "source": [
    "if 13%2 == 0:\n",
    "    print(\"Even\")\n",
    "\n",
    "else:\n",
    "\n",
    "    print(\"Odd\")"
   ]
  },
  {
   "cell_type": "code",
   "execution_count": 65,
   "id": "1a72f868",
   "metadata": {},
   "outputs": [
    {
     "name": "stdout",
     "output_type": "stream",
     "text": [
      "당신의 생년월일은 88 년 11 월 20 일 입니다.\n"
     ]
    }
   ],
   "source": [
    "a = \"881120-1068234\"\n",
    "\n",
    "s = a.split(\"-\")\n",
    "s[0]\n",
    "print(\"당신의 생년월일은\",s[0][0:2],\"년\",s[0][2:4],\"월\",s[0][4:6],\"일 입니다.\")"
   ]
  },
  {
   "cell_type": "code",
   "execution_count": 76,
   "id": "636e980b",
   "metadata": {},
   "outputs": [
    {
     "name": "stdout",
     "output_type": "stream",
     "text": [
      "case 1\n"
     ]
    }
   ],
   "source": [
    "money = 300\n",
    "card = True\n",
    "\n",
    "if money >= 300:\n",
    "    if card:\n",
    "        print(\"case 1\")\n",
    "    else:\n",
    "        print(\"case 2\")\n",
    "else:\n",
    "    if card:\n",
    "            print(\"case 3\")\n",
    "    else:\n",
    "        print(\"case 4\")"
   ]
  },
  {
   "cell_type": "code",
   "execution_count": 79,
   "id": "795ac6bb",
   "metadata": {},
   "outputs": [
    {
     "name": "stdout",
     "output_type": "stream",
     "text": [
      "없습니다!\n"
     ]
    }
   ],
   "source": [
    "l = [1,2,3,4]\n",
    "\n",
    "if 5 in l:\n",
    "    print(\"있습니다!\")\n",
    "else:\n",
    "    print(\"없습니다!\")"
   ]
  },
  {
   "cell_type": "code",
   "execution_count": 124,
   "id": "88113253",
   "metadata": {},
   "outputs": [
    {
     "data": {
      "text/plain": [
       "[17, 23, 34, 57, 95]"
      ]
     },
     "execution_count": 124,
     "metadata": {},
     "output_type": "execute_result"
    }
   ],
   "source": [
    "o = [17,23,57,34,95]\n",
    "o.sort()\n",
    "o"
   ]
  },
  {
   "cell_type": "code",
   "execution_count": 125,
   "id": "5c865fcf",
   "metadata": {},
   "outputs": [
    {
     "data": {
      "text/plain": [
       "5"
      ]
     },
     "execution_count": 125,
     "metadata": {},
     "output_type": "execute_result"
    }
   ],
   "source": [
    "len(o)"
   ]
  },
  {
   "cell_type": "code",
   "execution_count": 129,
   "id": "051d7218",
   "metadata": {},
   "outputs": [
    {
     "data": {
      "text/plain": [
       "2"
      ]
     },
     "execution_count": 129,
     "metadata": {},
     "output_type": "execute_result"
    }
   ],
   "source": [
    "m = 5//2\n",
    "m"
   ]
  },
  {
   "cell_type": "code",
   "execution_count": 130,
   "id": "97f55e8b",
   "metadata": {
    "scrolled": true
   },
   "outputs": [
    {
     "data": {
      "text/plain": [
       "34"
      ]
     },
     "execution_count": 130,
     "metadata": {},
     "output_type": "execute_result"
    }
   ],
   "source": [
    "# 중간값\n",
    "o[m]"
   ]
  },
  {
   "cell_type": "code",
   "execution_count": 139,
   "id": "18726551",
   "metadata": {},
   "outputs": [
    {
     "data": {
      "text/plain": [
       "[23, 34]"
      ]
     },
     "execution_count": 139,
     "metadata": {},
     "output_type": "execute_result"
    }
   ],
   "source": [
    "o[m-1:m+1]"
   ]
  },
  {
   "cell_type": "code",
   "execution_count": 152,
   "id": "260373ad",
   "metadata": {
    "scrolled": true
   },
   "outputs": [
    {
     "name": "stdout",
     "output_type": "stream",
     "text": [
      "34\n"
     ]
    }
   ],
   "source": [
    "if len(o)%2 == 1:\n",
    "    print(o[m1])\n",
    "else:\n",
    "    o[m-1:m+1]"
   ]
  },
  {
   "cell_type": "code",
   "execution_count": 153,
   "id": "a0c10d64",
   "metadata": {},
   "outputs": [
    {
     "name": "stdout",
     "output_type": "stream",
     "text": [
      "Collecting opencv-python\n",
      "  Downloading opencv_python-4.9.0.80-cp37-abi3-win_amd64.whl (38.6 MB)\n",
      "     --------------------------------------- 38.6/38.6 MB 29.7 MB/s eta 0:00:00\n",
      "Requirement already satisfied: numpy>=1.17.3 in c:\\users\\user\\anaconda3\\lib\\site-packages (from opencv-python) (1.23.5)\n",
      "Installing collected packages: opencv-python\n",
      "Successfully installed opencv-python-4.9.0.80\n"
     ]
    }
   ],
   "source": [
    "!pip install opencv-python"
   ]
  },
  {
   "cell_type": "code",
   "execution_count": 166,
   "id": "73d09260",
   "metadata": {},
   "outputs": [
    {
     "ename": "AttributeError",
     "evalue": "module 'cv2' has no attribute 'destroyALLwindows'",
     "output_type": "error",
     "traceback": [
      "\u001b[1;31m---------------------------------------------------------------------------\u001b[0m",
      "\u001b[1;31mAttributeError\u001b[0m                            Traceback (most recent call last)",
      "Cell \u001b[1;32mIn[166], line 13\u001b[0m\n\u001b[0;32m      9\u001b[0m cv2\u001b[38;5;241m.\u001b[39mimshow(\u001b[38;5;124m'\u001b[39m\u001b[38;5;124mOriginal Image\u001b[39m\u001b[38;5;124m'\u001b[39m, image)\n\u001b[0;32m     11\u001b[0m cv2\u001b[38;5;241m.\u001b[39mwaitKey(\u001b[38;5;241m0\u001b[39m)\n\u001b[1;32m---> 13\u001b[0m \u001b[43mcv2\u001b[49m\u001b[38;5;241;43m.\u001b[39;49m\u001b[43mdestroyALLwindows\u001b[49m()\n",
      "\u001b[1;31mAttributeError\u001b[0m: module 'cv2' has no attribute 'destroyALLwindows'"
     ]
    }
   ],
   "source": [
    "import cv2\n",
    "\n",
    "image_path = 'sample.jpeg'\n",
    "\n",
    "image = cv2.imread(image_path)\n",
    "\n",
    "gray_image = cv2.cvtColor(image, cv2.COLOR_BGR2GRAY)\n",
    "\n",
    "cv2.imshow('Original Image', image)\n",
    "\n",
    "cv2.waitKey(0)\n",
    "\n",
    "cv2.destroyALLwindows()"
   ]
  },
  {
   "cell_type": "code",
   "execution_count": 167,
   "id": "a7a70d4b",
   "metadata": {},
   "outputs": [
    {
     "name": "stdout",
     "output_type": "stream",
     "text": [
      "Both x and y are positive.\n"
     ]
    }
   ],
   "source": [
    "x = 5\n",
    "y = 10\n",
    "\n",
    "if x > 0 and y > 0:\n",
    "    print(\"Both x and y are positive.\")\n",
    "else:\n",
    "    print(\"negative\")"
   ]
  },
  {
   "cell_type": "code",
   "execution_count": 168,
   "id": "1abf31f9",
   "metadata": {},
   "outputs": [
    {
     "name": "stdout",
     "output_type": "stream",
     "text": [
      "It's raining\n"
     ]
    }
   ],
   "source": [
    "is_raining = True\n",
    "\n",
    "if not is_raining:\n",
    "    print(\"It's not raining\")\n",
    "else:\n",
    "    print(\"It's raining\")"
   ]
  },
  {
   "cell_type": "code",
   "execution_count": 169,
   "id": "1910e1ee",
   "metadata": {},
   "outputs": [
    {
     "data": {
      "text/plain": [
       "array([[[73, 67, 54],\n",
       "        [70, 64, 51],\n",
       "        [68, 65, 51],\n",
       "        ...,\n",
       "        [67, 70, 61],\n",
       "        [68, 69, 59],\n",
       "        [62, 63, 53]],\n",
       "\n",
       "       [[74, 68, 55],\n",
       "        [70, 64, 51],\n",
       "        [69, 66, 52],\n",
       "        ...,\n",
       "        [66, 69, 60],\n",
       "        [70, 71, 61],\n",
       "        [64, 65, 55]],\n",
       "\n",
       "       [[75, 69, 56],\n",
       "        [71, 65, 52],\n",
       "        [70, 67, 53],\n",
       "        ...,\n",
       "        [63, 66, 57],\n",
       "        [72, 73, 63],\n",
       "        [67, 68, 58]],\n",
       "\n",
       "       ...,\n",
       "\n",
       "       [[ 1,  6,  4],\n",
       "        [ 1,  6,  4],\n",
       "        [ 1,  6,  4],\n",
       "        ...,\n",
       "        [ 2,  5,  3],\n",
       "        [ 2,  5,  3],\n",
       "        [ 2,  5,  3]],\n",
       "\n",
       "       [[ 1,  6,  4],\n",
       "        [ 1,  6,  4],\n",
       "        [ 1,  6,  4],\n",
       "        ...,\n",
       "        [ 2,  5,  3],\n",
       "        [ 2,  5,  3],\n",
       "        [ 2,  5,  3]],\n",
       "\n",
       "       [[ 1,  6,  4],\n",
       "        [ 1,  6,  4],\n",
       "        [ 1,  6,  4],\n",
       "        ...,\n",
       "        [ 2,  5,  3],\n",
       "        [ 2,  5,  3],\n",
       "        [ 2,  5,  3]]], dtype=uint8)"
      ]
     },
     "execution_count": 169,
     "metadata": {},
     "output_type": "execute_result"
    }
   ],
   "source": [
    "image"
   ]
  },
  {
   "cell_type": "code",
   "execution_count": 170,
   "id": "2fe59bb9",
   "metadata": {},
   "outputs": [
    {
     "ename": "AttributeError",
     "evalue": "module 'cv2' has no attribute 'destoryALLwindows'",
     "output_type": "error",
     "traceback": [
      "\u001b[1;31m---------------------------------------------------------------------------\u001b[0m",
      "\u001b[1;31mAttributeError\u001b[0m                            Traceback (most recent call last)",
      "Cell \u001b[1;32mIn[170], line 11\u001b[0m\n\u001b[0;32m      9\u001b[0m cv2\u001b[38;5;241m.\u001b[39mimshow(\u001b[38;5;124m'\u001b[39m\u001b[38;5;124mRed Image\u001b[39m\u001b[38;5;124m'\u001b[39m, red_color)\n\u001b[0;32m     10\u001b[0m cv2\u001b[38;5;241m.\u001b[39mwaitKey(\u001b[38;5;241m0\u001b[39m)\n\u001b[1;32m---> 11\u001b[0m \u001b[43mcv2\u001b[49m\u001b[38;5;241;43m.\u001b[39;49m\u001b[43mdestoryALLwindows\u001b[49m()\n",
      "\u001b[1;31mAttributeError\u001b[0m: module 'cv2' has no attribute 'destoryALLwindows'"
     ]
    }
   ],
   "source": [
    "import numpy as np\n",
    "import cv2\n",
    "\n",
    "width = 400\n",
    "height = 300\n",
    "\n",
    "red_color = np.full((height, width, 3),(0,0,255),dtype=np.uint8)\n",
    "\n",
    "cv2.imshow('Red Image', red_color)\n",
    "cv2.waitKey(0)\n",
    "cv2.destoryALLwindows()"
   ]
  }
 ],
 "metadata": {
  "kernelspec": {
   "display_name": "Python 3 (ipykernel)",
   "language": "python",
   "name": "python3"
  },
  "language_info": {
   "codemirror_mode": {
    "name": "ipython",
    "version": 3
   },
   "file_extension": ".py",
   "mimetype": "text/x-python",
   "name": "python",
   "nbconvert_exporter": "python",
   "pygments_lexer": "ipython3",
   "version": "3.10.9"
  }
 },
 "nbformat": 4,
 "nbformat_minor": 5
}
