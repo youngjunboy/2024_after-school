{
 "cells": [
  {
   "cell_type": "code",
   "execution_count": 112,
   "id": "067db9bf",
   "metadata": {
    "scrolled": true
   },
   "outputs": [
    {
     "name": "stdout",
     "output_type": "stream",
     "text": [
      "[1, 3, 4, 5, 6, 7, 8, 9, 2, 10]\n",
      "[1, 3, 4, 5, 6, 7, 8, 2, 9, 10]\n",
      "[1, 3, 4, 5, 6, 7, 2, 8, 9, 10]\n",
      "[1, 3, 4, 5, 6, 2, 7, 8, 9, 10]\n",
      "[1, 3, 4, 5, 2, 6, 7, 8, 9, 10]\n",
      "[1, 3, 4, 2, 5, 6, 7, 8, 9, 10]\n",
      "[1, 3, 2, 4, 5, 6, 7, 8, 9, 10]\n",
      "[1, 2, 3, 4, 5, 6, 7, 8, 9, 10]\n",
      "[1, 2, 3, 4, 5, 6, 7, 8, 9, 10]\n",
      "[1, 2, 3, 4, 5, 6, 7, 8, 9, 10]\n"
     ]
    }
   ],
   "source": [
    "list1 = [1,3,6,4,5,7,9,8,10,2]\n",
    "temp = 0\n",
    "\n",
    "def sort(a):\n",
    "    for j in range(a):\n",
    "        for i in range(a):\n",
    "            if i == 9:\n",
    "                print(list1)\n",
    "            else:\n",
    "                if list1[i] < list1[i+1]:\n",
    "                    pass\n",
    "                else:\n",
    "                    temp = list1[i+1]\n",
    "                    list1[i+1] = list1[i]\n",
    "                    list1[i] = temp\n",
    "                                \n",
    "sort(len(list1))"
   ]
  },
  {
   "cell_type": "code",
   "execution_count": 114,
   "id": "7bf43d48",
   "metadata": {
    "scrolled": true
   },
   "outputs": [
    {
     "name": "stdout",
     "output_type": "stream",
     "text": [
      "[1, 3, 4, 5, 6, 7, 8, 9, 2, 10]\n",
      "[1, 3, 4, 5, 6, 7, 8, 2, 9, 10]\n",
      "[1, 3, 4, 5, 6, 7, 2, 8, 9, 10]\n",
      "[1, 3, 4, 5, 6, 2, 7, 8, 9, 10]\n",
      "[1, 3, 4, 5, 2, 6, 7, 8, 9, 10]\n",
      "[1, 3, 4, 2, 5, 6, 7, 8, 9, 10]\n",
      "[1, 3, 2, 4, 5, 6, 7, 8, 9, 10]\n",
      "[1, 2, 3, 4, 5, 6, 7, 8, 9, 10]\n",
      "[1, 2, 3, 4, 5, 6, 7, 8, 9, 10]\n",
      "[1, 2, 3, 4, 5, 6, 7, 8, 9, 10]\n"
     ]
    }
   ],
   "source": [
    "list1 = [1,3,6,4,5,7,9,8,10,2]\n",
    "temp = 0\n",
    "\n",
    "def sort(a):\n",
    "    for j in range(a):\n",
    "        for i in range(a):\n",
    "            if i == 9:\n",
    "                print(list1)\n",
    "            else:\n",
    "                if list1[i] > list1[i+1]:\n",
    "                    temp = list1[i+1]\n",
    "                    list1[i+1] = list1[i]\n",
    "                    list1[i] = temp\n",
    "                                \n",
    "sort(len(list1))"
   ]
  },
  {
   "cell_type": "code",
   "execution_count": 127,
   "id": "3490873c",
   "metadata": {},
   "outputs": [
    {
     "ename": "TypeError",
     "evalue": "cannot unpack non-iterable NoneType object",
     "output_type": "error",
     "traceback": [
      "\u001b[1;31m---------------------------------------------------------------------------\u001b[0m",
      "\u001b[1;31mTypeError\u001b[0m                                 Traceback (most recent call last)",
      "Cell \u001b[1;32mIn[127], line 8\u001b[0m\n\u001b[0;32m      6\u001b[0m     \u001b[38;5;28;01mreturn\u001b[39;00m arr\n\u001b[0;32m      7\u001b[0m list1 \u001b[38;5;241m=\u001b[39m [\u001b[38;5;241m1\u001b[39m,\u001b[38;5;241m3\u001b[39m,\u001b[38;5;241m6\u001b[39m,\u001b[38;5;241m4\u001b[39m,\u001b[38;5;241m5\u001b[39m,\u001b[38;5;241m7\u001b[39m,\u001b[38;5;241m9\u001b[39m,\u001b[38;5;241m8\u001b[39m,\u001b[38;5;241m10\u001b[39m,\u001b[38;5;241m2\u001b[39m]\n\u001b[1;32m----> 8\u001b[0m \u001b[38;5;28msorted\u001b[39m \u001b[38;5;241m=\u001b[39m \u001b[43mbubble_sort\u001b[49m\u001b[43m(\u001b[49m\u001b[43mlist1\u001b[49m\u001b[43m)\u001b[49m\n\u001b[0;32m      9\u001b[0m \u001b[38;5;28mprint\u001b[39m(\u001b[38;5;28msorted\u001b[39m)\n",
      "Cell \u001b[1;32mIn[127], line 5\u001b[0m, in \u001b[0;36mbubble_sort\u001b[1;34m(arr)\u001b[0m\n\u001b[0;32m      3\u001b[0m     \u001b[38;5;28;01mfor\u001b[39;00m j \u001b[38;5;129;01min\u001b[39;00m \u001b[38;5;28mrange\u001b[39m(\u001b[38;5;28mlen\u001b[39m(arr) \u001b[38;5;241m-\u001b[39m i \u001b[38;5;241m-\u001b[39m \u001b[38;5;241m1\u001b[39m):\n\u001b[0;32m      4\u001b[0m         \u001b[38;5;28;01mif\u001b[39;00m arr[j] \u001b[38;5;241m>\u001b[39m arr[j\u001b[38;5;241m+\u001b[39m\u001b[38;5;241m1\u001b[39m]:\n\u001b[1;32m----> 5\u001b[0m             arr[j],arr[j\u001b[38;5;241m+\u001b[39m\u001b[38;5;241m1\u001b[39m] \u001b[38;5;241m=\u001b[39m swap(arr[j],arr[j\u001b[38;5;241m+\u001b[39m\u001b[38;5;241m1\u001b[39m])\n\u001b[0;32m      6\u001b[0m \u001b[38;5;28;01mreturn\u001b[39;00m arr\n",
      "\u001b[1;31mTypeError\u001b[0m: cannot unpack non-iterable NoneType object"
     ]
    }
   ],
   "source": [
    "def bubble_sort(arr):\n",
    "    for i in range(len(arr)):\n",
    "        for j in range(len(arr) - i - 1):\n",
    "            if arr[j] > arr[j+1]:\n",
    "                arr[j],arr[j+1] = swap(arr[j],arr[j+1])\n",
    "    return arr\n",
    "list1 = [1,3,6,4,5,7,9,8,10,2]\n",
    "sorted = bubble_sort(list1)\n",
    "print(sorted)"
   ]
  },
  {
   "cell_type": "code",
   "execution_count": null,
   "id": "0ba535b9",
   "metadata": {},
   "outputs": [],
   "source": []
  }
 ],
 "metadata": {
  "kernelspec": {
   "display_name": "Python 3 (ipykernel)",
   "language": "python",
   "name": "python3"
  },
  "language_info": {
   "codemirror_mode": {
    "name": "ipython",
    "version": 3
   },
   "file_extension": ".py",
   "mimetype": "text/x-python",
   "name": "python",
   "nbconvert_exporter": "python",
   "pygments_lexer": "ipython3",
   "version": "3.10.9"
  }
 },
 "nbformat": 4,
 "nbformat_minor": 5
}
