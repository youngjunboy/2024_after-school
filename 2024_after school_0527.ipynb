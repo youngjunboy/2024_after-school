{
 "cells": [
  {
   "cell_type": "code",
   "execution_count": 22,
   "id": "e56c6b6f",
   "metadata": {},
   "outputs": [
    {
     "name": "stdout",
     "output_type": "stream",
     "text": [
      "[12, 11, 10, 9, 8]\n"
     ]
    }
   ],
   "source": [
    "list1 = [2,2,2,2,2,6,7,8,9,10]\n",
    "list2 = []\n",
    "for i in range(1,len(list1)//2+1):\n",
    "    list2.append(list1[i-1] + list1[-i])\n",
    "print(list2)"
   ]
  },
  {
   "cell_type": "code",
   "execution_count": 41,
   "id": "31a0e878",
   "metadata": {},
   "outputs": [
    {
     "name": "stdout",
     "output_type": "stream",
     "text": [
      "숫자 입력 : 15\n",
      "[16, 16, 16, 16, 16, 16, 16]\n",
      "112\n"
     ]
    }
   ],
   "source": [
    "number = int(input('숫자 입력 : '))\n",
    "list1 = []\n",
    "list2 = []\n",
    "sum1 = 0\n",
    "for i in range(number):\n",
    "    list1.append(i+1)\n",
    "for i in range(1,len(list1)//2+1):\n",
    "    list2.append(list1[i-1] + list1[-i])\n",
    "print(list2)\n",
    "for i in range(len(list2)):\n",
    "    sum1 += list2[i]\n",
    "print(sum1)"
   ]
  },
  {
   "cell_type": "code",
   "execution_count": 42,
   "id": "19dac60a",
   "metadata": {},
   "outputs": [],
   "source": [
    "f = open(\"hello.txt\",\"w\")"
   ]
  },
  {
   "cell_type": "code",
   "execution_count": 43,
   "id": "b27a1bad",
   "metadata": {},
   "outputs": [
    {
     "name": "stdout",
     "output_type": "stream",
     "text": [
      "hello_.txt 파일이 없습니다\n"
     ]
    }
   ],
   "source": [
    "try:\n",
    "    f = open(\"hello_.txt\",\"r\")\n",
    "except:\n",
    "    print(\"hello_.txt 파일이 없습니다\")"
   ]
  },
  {
   "cell_type": "code",
   "execution_count": 47,
   "id": "9f6aa44c",
   "metadata": {},
   "outputs": [
    {
     "name": "stdout",
     "output_type": "stream",
     "text": [
      "인덱싱 할 수 없습니다.\n",
      "에러가 나오든 말든 무조건 실행됩니다.\n"
     ]
    }
   ],
   "source": [
    "try:\n",
    "    a = [1,2]\n",
    "    print(a[3])\n",
    "    4/0\n",
    "except ZeroDivisionError:\n",
    "    print(\"0으로 나눌 수 없습니다.\")\n",
    "except IndexError:\n",
    "    print(\"인덱싱 할 수 없습니다.\")\n",
    "finally:\n",
    "    print(\"에러가 나오든 말든 무조건 실행됩니다.\")"
   ]
  },
  {
   "cell_type": "code",
   "execution_count": 48,
   "id": "3f3a661f",
   "metadata": {},
   "outputs": [
    {
     "name": "stdout",
     "output_type": "stream",
     "text": [
      "thread 1 starts\n",
      "thread 1 running 0\n",
      "thread 2 starts\n",
      "thread 2 running 0\n",
      "thread 1 running 1\n",
      "thread 2 running 1\n",
      "thread 1 running 2thread 2 running 2\n",
      "\n",
      "thread 1 running 3\n",
      "thread 2 running 3\n",
      "thread 2 running 4thread 1 running 4\n",
      "\n",
      "thread 1 running 5\n",
      "thread 2 ends\n",
      "thread 1 running 6\n",
      "thread 1 running 7\n",
      "thread 1 running 8\n",
      "thread 1 running 9\n",
      "thread 1 ends\n"
     ]
    }
   ],
   "source": [
    "import threading\n",
    "import time\n",
    "def count(num,t,thread_num):\n",
    "    print(f'thread {thread_num} starts')\n",
    "    \n",
    "    for i in range(num):\n",
    "        print(f'thread {thread_num} running {i}')\n",
    "        time.sleep(t)\n",
    "        \n",
    "    print(f'thread {thread_num} ends')\n",
    "thread_1 = threading.Thread(target = count,args = (10,0.1,1))\n",
    "thread_1.start()\n",
    "count(5,0.1,2)"
   ]
  },
  {
   "cell_type": "code",
   "execution_count": null,
   "id": "3b2c445d",
   "metadata": {},
   "outputs": [],
   "source": []
  }
 ],
 "metadata": {
  "kernelspec": {
   "display_name": "Python 3 (ipykernel)",
   "language": "python",
   "name": "python3"
  },
  "language_info": {
   "codemirror_mode": {
    "name": "ipython",
    "version": 3
   },
   "file_extension": ".py",
   "mimetype": "text/x-python",
   "name": "python",
   "nbconvert_exporter": "python",
   "pygments_lexer": "ipython3",
   "version": "3.10.9"
  }
 },
 "nbformat": 4,
 "nbformat_minor": 5
}
