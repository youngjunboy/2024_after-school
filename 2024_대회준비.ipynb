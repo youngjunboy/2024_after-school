{
 "cells": [
  {
   "cell_type": "code",
   "execution_count": 119,
   "id": "5d99f960",
   "metadata": {},
   "outputs": [],
   "source": [
    "import pandas as pd\n",
    "import matplotlib.pyplot as plt"
   ]
  },
  {
   "cell_type": "code",
   "execution_count": 120,
   "id": "0943f99e",
   "metadata": {
    "scrolled": true
   },
   "outputs": [],
   "source": [
    "df_2014=pd.read_csv(\"2014년도_전·출입 및 학업중단 학생 수(고)_전체.csv\")\n",
    "df_2015=pd.read_csv(\"2015년도_전·출입 및 학업중단 학생 수(고)_전체.csv\")\n",
    "df_2016=pd.read_csv(\"2016년도_전·출입 및 학업중단 학생 수(고)_전체.csv\")\n",
    "df_2017=pd.read_csv(\"2017년도_전·출입 및 학업중단 학생 수(고)_전체.csv\")\n",
    "df_2018=pd.read_csv(\"2018년도_전·출입 및 학업중단 학생 수(고)_전체.csv\")\n",
    "df_2019=pd.read_csv(\"2019년도_전·출입 및 학업중단 학생 수(고)_전체.csv\")\n",
    "df_2020=pd.read_csv(\"2020년도_전·출입 및 학업중단 학생 수(고)_전체.csv\")\n",
    "df_2021=pd.read_csv(\"2021년도_전·출입 및 학업중단 학생 수(고)_전체.csv\")\n",
    "df_2022=pd.read_csv(\"2022년도_전·출입 및 학업중단 학생 수(고)_전체.csv\")\n",
    "df_2023=pd.read_csv(\"2023년도_전·출입 및 학업중단 학생 수(고)_전체.csv\")"
   ]
  },
  {
   "cell_type": "code",
   "execution_count": 121,
   "id": "46acc3b1",
   "metadata": {
    "scrolled": false
   },
   "outputs": [
    {
     "name": "stderr",
     "output_type": "stream",
     "text": [
      "C:\\Users\\user\\AppData\\Local\\Temp\\ipykernel_8628\\958781026.py:1: FutureWarning: The default value of numeric_only in DataFrameGroupBy.sum is deprecated. In a future version, numeric_only will default to False. Either specify numeric_only or select only columns which should be valid for the function.\n",
      "  high = df_2014.groupby('시도교육청').sum()\n"
     ]
    }
   ],
   "source": [
    "high = df_2014.groupby('시도교육청').sum()\n",
    "\n",
    "high.to_csv('high.csv')"
   ]
  },
  {
   "cell_type": "code",
   "execution_count": 122,
   "id": "867232cd",
   "metadata": {
    "scrolled": true
   },
   "outputs": [],
   "source": [
    "plt.rcParams['font.family'] ='Malgun Gothic'\n",
    "plt.rcParams['axes.unicode_minus'] =False"
   ]
  }
 ],
 "metadata": {
  "kernelspec": {
   "display_name": "Python 3 (ipykernel)",
   "language": "python",
   "name": "python3"
  },
  "language_info": {
   "codemirror_mode": {
    "name": "ipython",
    "version": 3
   },
   "file_extension": ".py",
   "mimetype": "text/x-python",
   "name": "python",
   "nbconvert_exporter": "python",
   "pygments_lexer": "ipython3",
   "version": "3.10.9"
  }
 },
 "nbformat": 4,
 "nbformat_minor": 5
}
