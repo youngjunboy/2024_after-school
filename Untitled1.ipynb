{
 "cells": [
  {
   "cell_type": "code",
   "execution_count": null,
   "id": "4b7d1e3c",
   "metadata": {},
   "outputs": [],
   "source": []
  },
  {
   "cell_type": "code",
   "execution_count": 39,
   "id": "ea8a0304",
   "metadata": {
    "scrolled": false
   },
   "outputs": [
    {
     "name": "stdout",
     "output_type": "stream",
     "text": [
      "돈을 넣어주세요 3000\n",
      "{'제로코카콜라': 1200, '비타500': 800, '허쉬초코': 1000, '포카리스웨트': 1600, '몬스터': 2000}\n",
      "마실 음료를 선택해 주세요 비타500\n",
      "음료수를 구매했습니다 \n",
      "잔돈은 2200 입니다 \n",
      "음료수를 더 구매하시겠습니까? 예, 아니오 예\n",
      "{'제로코카콜라': 1200, '비타500': 800, '허쉬초코': 1000, '포카리스웨트': 1600, '몬스터': 2000}\n",
      "마실 음료를 선택해 주세요 허쉬초코\n",
      "{'제로코카콜라': 1200, '비타500': 800, '허쉬초코': 1000, '포카리스웨트': 1600, '몬스터': 2000}\n"
     ]
    },
    {
     "ename": "KeyboardInterrupt",
     "evalue": "Interrupted by user",
     "output_type": "error",
     "traceback": [
      "\u001b[1;31m---------------------------------------------------------------------------\u001b[0m",
      "\u001b[1;31mKeyboardInterrupt\u001b[0m                         Traceback (most recent call last)",
      "Cell \u001b[1;32mIn[39], line 9\u001b[0m\n\u001b[0;32m      7\u001b[0m \u001b[38;5;28;01melse\u001b[39;00m:\n\u001b[0;32m      8\u001b[0m     \u001b[38;5;28mprint\u001b[39m(dic)\n\u001b[1;32m----> 9\u001b[0m     drink \u001b[38;5;241m=\u001b[39m \u001b[38;5;28;43minput\u001b[39;49m\u001b[43m(\u001b[49m\u001b[38;5;124;43m\"\u001b[39;49m\u001b[38;5;124;43m마실 음료를 선택해 주세요 \u001b[39;49m\u001b[38;5;124;43m\"\u001b[39;49m\u001b[43m)\u001b[49m\n\u001b[0;32m     10\u001b[0m     \u001b[38;5;28;01mif\u001b[39;00m money \u001b[38;5;241m>\u001b[39m\u001b[38;5;241m=\u001b[39m dic[drink]:\n\u001b[0;32m     11\u001b[0m         \u001b[38;5;28mprint\u001b[39m(\u001b[38;5;124m\"\u001b[39m\u001b[38;5;124m음료수를 구매했습니다 \u001b[39m\u001b[38;5;124m\"\u001b[39m)\n",
      "File \u001b[1;32m~\\anaconda3\\lib\\site-packages\\ipykernel\\kernelbase.py:1175\u001b[0m, in \u001b[0;36mKernel.raw_input\u001b[1;34m(self, prompt)\u001b[0m\n\u001b[0;32m   1171\u001b[0m \u001b[38;5;28;01mif\u001b[39;00m \u001b[38;5;129;01mnot\u001b[39;00m \u001b[38;5;28mself\u001b[39m\u001b[38;5;241m.\u001b[39m_allow_stdin:\n\u001b[0;32m   1172\u001b[0m     \u001b[38;5;28;01mraise\u001b[39;00m StdinNotImplementedError(\n\u001b[0;32m   1173\u001b[0m         \u001b[38;5;124m\"\u001b[39m\u001b[38;5;124mraw_input was called, but this frontend does not support input requests.\u001b[39m\u001b[38;5;124m\"\u001b[39m\n\u001b[0;32m   1174\u001b[0m     )\n\u001b[1;32m-> 1175\u001b[0m \u001b[38;5;28;01mreturn\u001b[39;00m \u001b[38;5;28;43mself\u001b[39;49m\u001b[38;5;241;43m.\u001b[39;49m\u001b[43m_input_request\u001b[49m\u001b[43m(\u001b[49m\n\u001b[0;32m   1176\u001b[0m \u001b[43m    \u001b[49m\u001b[38;5;28;43mstr\u001b[39;49m\u001b[43m(\u001b[49m\u001b[43mprompt\u001b[49m\u001b[43m)\u001b[49m\u001b[43m,\u001b[49m\n\u001b[0;32m   1177\u001b[0m \u001b[43m    \u001b[49m\u001b[38;5;28;43mself\u001b[39;49m\u001b[38;5;241;43m.\u001b[39;49m\u001b[43m_parent_ident\u001b[49m\u001b[43m[\u001b[49m\u001b[38;5;124;43m\"\u001b[39;49m\u001b[38;5;124;43mshell\u001b[39;49m\u001b[38;5;124;43m\"\u001b[39;49m\u001b[43m]\u001b[49m\u001b[43m,\u001b[49m\n\u001b[0;32m   1178\u001b[0m \u001b[43m    \u001b[49m\u001b[38;5;28;43mself\u001b[39;49m\u001b[38;5;241;43m.\u001b[39;49m\u001b[43mget_parent\u001b[49m\u001b[43m(\u001b[49m\u001b[38;5;124;43m\"\u001b[39;49m\u001b[38;5;124;43mshell\u001b[39;49m\u001b[38;5;124;43m\"\u001b[39;49m\u001b[43m)\u001b[49m\u001b[43m,\u001b[49m\n\u001b[0;32m   1179\u001b[0m \u001b[43m    \u001b[49m\u001b[43mpassword\u001b[49m\u001b[38;5;241;43m=\u001b[39;49m\u001b[38;5;28;43;01mFalse\u001b[39;49;00m\u001b[43m,\u001b[49m\n\u001b[0;32m   1180\u001b[0m \u001b[43m\u001b[49m\u001b[43m)\u001b[49m\n",
      "File \u001b[1;32m~\\anaconda3\\lib\\site-packages\\ipykernel\\kernelbase.py:1217\u001b[0m, in \u001b[0;36mKernel._input_request\u001b[1;34m(self, prompt, ident, parent, password)\u001b[0m\n\u001b[0;32m   1214\u001b[0m             \u001b[38;5;28;01mbreak\u001b[39;00m\n\u001b[0;32m   1215\u001b[0m \u001b[38;5;28;01mexcept\u001b[39;00m \u001b[38;5;167;01mKeyboardInterrupt\u001b[39;00m:\n\u001b[0;32m   1216\u001b[0m     \u001b[38;5;66;03m# re-raise KeyboardInterrupt, to truncate traceback\u001b[39;00m\n\u001b[1;32m-> 1217\u001b[0m     \u001b[38;5;28;01mraise\u001b[39;00m \u001b[38;5;167;01mKeyboardInterrupt\u001b[39;00m(\u001b[38;5;124m\"\u001b[39m\u001b[38;5;124mInterrupted by user\u001b[39m\u001b[38;5;124m\"\u001b[39m) \u001b[38;5;28;01mfrom\u001b[39;00m \u001b[38;5;28mNone\u001b[39m\n\u001b[0;32m   1218\u001b[0m \u001b[38;5;28;01mexcept\u001b[39;00m \u001b[38;5;167;01mException\u001b[39;00m:\n\u001b[0;32m   1219\u001b[0m     \u001b[38;5;28mself\u001b[39m\u001b[38;5;241m.\u001b[39mlog\u001b[38;5;241m.\u001b[39mwarning(\u001b[38;5;124m\"\u001b[39m\u001b[38;5;124mInvalid Message:\u001b[39m\u001b[38;5;124m\"\u001b[39m, exc_info\u001b[38;5;241m=\u001b[39m\u001b[38;5;28;01mTrue\u001b[39;00m)\n",
      "\u001b[1;31mKeyboardInterrupt\u001b[0m: Interrupted by user"
     ]
    }
   ],
   "source": [
    "dic = {\"제로코카콜라\":1200,\"비타500\":800,\"허쉬초코\":1000,\"포카리스웨트\":1600,\"몬스터\":2000}\n",
    "\n",
    "money = int(input(\"돈을 넣어주세요 \"))\n",
    "while True:\n",
    "    if money < 800:\n",
    "        print(\"돈이 부족합니다 \")\n",
    "    else:\n",
    "        print(dic)\n",
    "        drink = input(\"마실 음료를 선택해 주세요 \")\n",
    "        if money >= dic[drink]:\n",
    "            print(\"음료수를 구매했습니다 \")\n",
    "            cash = money-dic[drink]\n",
    "            print(f\"잔돈은 {cash} 입니다 \")\n",
    "            if money > 800:\n",
    "                q = input(\"음료수를 더 구매하시겠습니까? 예, 아니오 \")\n",
    "                if q == \"예\":\n",
    "                    print(dic)\n",
    "                    drink = input(\"마실 음료를 선택해 주세요 \")\n",
    "                else:\n",
    "                    print(\"맛있게 드세요\")\n",
    "                    if cash >= dic[drink]:\n",
    "                        print(\"음료수를 구매했습니다 \")\n",
    "                        cash = money-dic[drink]\n",
    "                        print(f\"잔돈은 {cash} 입니다 \")\n",
    "                    else:\n",
    "                        print(\"돈이 부족합니다. 맛있게 드세요\")\n",
    "            "
   ]
  },
  {
   "cell_type": "code",
   "execution_count": 78,
   "id": "82c2b874",
   "metadata": {},
   "outputs": [
    {
     "name": "stdout",
     "output_type": "stream",
     "text": [
      "      *  \n",
      "     ***  \n",
      "    *****  \n",
      "   *******  \n",
      "  *********  \n"
     ]
    }
   ],
   "source": [
    "for i in range(1,6):\n",
    "    blank = 6 - i\n",
    "    stars = i * 2 - 1\n",
    "    print(' ' * blank,  end=' ')\n",
    "    print('*' * stars,  end=' ')\n",
    "    print(' ')"
   ]
  },
  {
   "cell_type": "code",
   "execution_count": 80,
   "id": "ba7b5f93",
   "metadata": {},
   "outputs": [],
   "source": [
    "import tkinter as tk"
   ]
  },
  {
   "cell_type": "code",
   "execution_count": 85,
   "id": "a104b5ab",
   "metadata": {},
   "outputs": [],
   "source": [
    "# 윈도우 생성\n",
    "window = tk.Tk()\n",
    "window.title('Tkinter Example')   # 윈도우 제목 설정\n",
    "\n",
    "# 라벨 생성\n",
    "label = tk.Label(window, text=\"안녕~\", padx=20,pady=10)\n",
    "label.pack()\n",
    "\n",
    "# 윈도우 표시\n",
    "window.mainloop()"
   ]
  },
  {
   "cell_type": "code",
   "execution_count": 87,
   "id": "99ffd037",
   "metadata": {},
   "outputs": [],
   "source": [
    "def change_label_text():\n",
    "    if label.cget(\"text\") == \"Hello, Tkinter!\":\n",
    "        label.config(text = \"Button clicked!\")\n",
    "    else:\n",
    "        label.config(text = \"Hello, Tkinter!\")\n",
    "window = tk.Tk()\n",
    "window.title(\"Tkinter Example\")\n",
    "window.geometry(\"400x300\")\n",
    "\n",
    "label = tk.Label(window, text=\"Hello, Tkinter!\")\n",
    "label.pack()\n",
    "\n",
    "button = tk.Button(window, text=\"Click me!\", command=change_label_text)\n",
    "button.pack()\n",
    "\n",
    "window.mainloop()"
   ]
  }
 ],
 "metadata": {
  "kernelspec": {
   "display_name": "Python 3 (ipykernel)",
   "language": "python",
   "name": "python3"
  },
  "language_info": {
   "codemirror_mode": {
    "name": "ipython",
    "version": 3
   },
   "file_extension": ".py",
   "mimetype": "text/x-python",
   "name": "python",
   "nbconvert_exporter": "python",
   "pygments_lexer": "ipython3",
   "version": "3.10.9"
  }
 },
 "nbformat": 4,
 "nbformat_minor": 5
}
