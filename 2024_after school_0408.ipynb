{
 "cells": [
  {
   "cell_type": "markdown",
   "id": "d2540450",
   "metadata": {},
   "source": [
    "# 2024_after school_0408"
   ]
  },
  {
   "cell_type": "code",
   "execution_count": 39,
   "id": "8ecbec4f",
   "metadata": {},
   "outputs": [
    {
     "data": {
      "text/plain": [
       "int"
      ]
     },
     "execution_count": 39,
     "metadata": {},
     "output_type": "execute_result"
    }
   ],
   "source": [
    "a = 5\n",
    "b = 3\n",
    "c = a+b\n",
    "d = a//b\n",
    "e = a/b\n",
    "type(e)\n",
    "type(d)"
   ]
  },
  {
   "cell_type": "code",
   "execution_count": 41,
   "id": "73c779f4",
   "metadata": {},
   "outputs": [
    {
     "name": "stdout",
     "output_type": "stream",
     "text": [
      "이름을 입력하세요.4\n",
      "4님 환영합니다!\n"
     ]
    },
    {
     "data": {
      "text/plain": [
       "int"
      ]
     },
     "execution_count": 41,
     "metadata": {},
     "output_type": "execute_result"
    }
   ],
   "source": [
    "# adress 바로 옆에 붙어있기 때문에 열\n",
    "a = int(input(\"이름을 입력하세요.\"))\n",
    "print(f'{a}님 환영합니다!')\n",
    "type(a)"
   ]
  },
  {
   "cell_type": "code",
   "execution_count": 4,
   "id": "46ee1fdc",
   "metadata": {
    "scrolled": true
   },
   "outputs": [
    {
     "name": "stdout",
     "output_type": "stream",
     "text": [
      "2\n",
      "4\n",
      "6\n",
      "8\n",
      "10\n"
     ]
    }
   ],
   "source": [
    "for i in range(1,11):\n",
    "    if i%2==0:\n",
    "        print(i)"
   ]
  },
  {
   "cell_type": "code",
   "execution_count": 49,
   "id": "3e8ba1da",
   "metadata": {},
   "outputs": [
    {
     "name": "stdout",
     "output_type": "stream",
     "text": [
      "홀수의 합은 25 짝수의 합은 30 입니다.\n"
     ]
    }
   ],
   "source": [
    "n = 0\n",
    "n2 = 0\n",
    "for i in range(1,11):\n",
    "    if i%2 == 1:\n",
    "        n += i\n",
    "    else:\n",
    "        n2 += i\n",
    "print(f'홀수의 합은 {n} 짝수의 합은 {n2} 입니다.')"
   ]
  },
  {
   "cell_type": "code",
   "execution_count": 52,
   "id": "ff3f9614",
   "metadata": {},
   "outputs": [
    {
     "name": "stdout",
     "output_type": "stream",
     "text": [
      "sum of 0 is 18\n",
      "sum of 1 is 22\n",
      "sum of 2 is 15\n"
     ]
    }
   ],
   "source": [
    "n3 = 0\n",
    "n4 = 0\n",
    "n5 = 0\n",
    "for i in range(1,11):\n",
    "    if i%3 == 0:\n",
    "        n3 += i\n",
    "    elif i%3 == 1:\n",
    "        n4 += i\n",
    "    else:\n",
    "        n5 += i\n",
    "print(f'sum of 0 is {n3}')\n",
    "print(f'sum of 1 is {n4}')\n",
    "print(f'sum of 2 is {n5}')"
   ]
  },
  {
   "cell_type": "code",
   "execution_count": 62,
   "id": "91f07e8c",
   "metadata": {},
   "outputs": [
    {
     "data": {
      "text/plain": [
       "[5, 4, 3, 2, 1]"
      ]
     },
     "execution_count": 62,
     "metadata": {},
     "output_type": "execute_result"
    }
   ],
   "source": [
    "my_list = [1,2,3,4,5]\n",
    "reversed_list = my_list[::-1]\n",
    "reversed_list"
   ]
  },
  {
   "cell_type": "code",
   "execution_count": 63,
   "id": "ddf41bf3",
   "metadata": {
    "scrolled": false
   },
   "outputs": [
    {
     "name": "stdout",
     "output_type": "stream",
     "text": [
      "1 2 3 4 5 "
     ]
    }
   ],
   "source": [
    "for i in my_list:\n",
    "    print(i,end = \" \")"
   ]
  },
  {
   "cell_type": "code",
   "execution_count": 68,
   "id": "27895148",
   "metadata": {},
   "outputs": [
    {
     "name": "stdout",
     "output_type": "stream",
     "text": [
      "<class 'list'> <class 'tuple'>\n"
     ]
    }
   ],
   "source": [
    "my_list2 = [3.1,1.0,5,\"홍\"]\n",
    "my_tupple = (3.1,1.0,5,\"홍\")\n",
    "print(type(my_list2),type(my_tupple))"
   ]
  },
  {
   "cell_type": "code",
   "execution_count": 17,
   "id": "8b429a9b",
   "metadata": {},
   "outputs": [
    {
     "data": {
      "text/plain": [
       "'dlroW olleH'"
      ]
     },
     "execution_count": 17,
     "metadata": {},
     "output_type": "execute_result"
    }
   ],
   "source": [
    "a = \"Hello World\"\n",
    "a[::-1]"
   ]
  },
  {
   "cell_type": "code",
   "execution_count": 19,
   "id": "94145b88",
   "metadata": {},
   "outputs": [
    {
     "name": "stdout",
     "output_type": "stream",
     "text": [
      "3 5\n",
      "15\n"
     ]
    }
   ],
   "source": [
    "a,b = input().split()\n",
    "a = int(a)\n",
    "b = int(b)\n",
    "print(a*b)"
   ]
  },
  {
   "cell_type": "code",
   "execution_count": 20,
   "id": "6e06e303",
   "metadata": {},
   "outputs": [
    {
     "data": {
      "text/plain": [
       "3"
      ]
     },
     "execution_count": 20,
     "metadata": {},
     "output_type": "execute_result"
    }
   ],
   "source": [
    "a = [1,2,3,4,5]\n",
    "a[2]"
   ]
  },
  {
   "cell_type": "code",
   "execution_count": 27,
   "id": "0646a312",
   "metadata": {},
   "outputs": [
    {
     "data": {
      "text/plain": [
       "15"
      ]
     },
     "execution_count": 27,
     "metadata": {},
     "output_type": "execute_result"
    }
   ],
   "source": [
    "a = [1,2,3,4,5]\n",
    "a[0]+a[1]+a[2]+a[3]+a[4]"
   ]
  },
  {
   "cell_type": "code",
   "execution_count": 22,
   "id": "121bd0dd",
   "metadata": {},
   "outputs": [
    {
     "name": "stdout",
     "output_type": "stream",
     "text": [
      "pythonpythonpython\n"
     ]
    }
   ],
   "source": [
    "print(\"python\"*3)"
   ]
  },
  {
   "cell_type": "code",
   "execution_count": 31,
   "id": "81c1b5b0",
   "metadata": {},
   "outputs": [
    {
     "data": {
      "text/plain": [
       "float"
      ]
     },
     "execution_count": 31,
     "metadata": {},
     "output_type": "execute_result"
    }
   ],
   "source": [
    "a = 3.0\n",
    "type(a)"
   ]
  },
  {
   "cell_type": "code",
   "execution_count": 71,
   "id": "e50dabc6",
   "metadata": {},
   "outputs": [
    {
     "name": "stdout",
     "output_type": "stream",
     "text": [
      "hello world\n",
      "helloi world\n",
      "helloi world\n"
     ]
    }
   ],
   "source": [
    "a = 'hello world'\n",
    "a1 = \"helloi world\"\n",
    "a2 = \"\"\"helloi world\"\"\"\n",
    "print(a)\n",
    "print(a1)\n",
    "print(a2)"
   ]
  },
  {
   "cell_type": "code",
   "execution_count": 72,
   "id": "263b6fa5",
   "metadata": {},
   "outputs": [
    {
     "data": {
      "text/plain": [
       "str"
      ]
     },
     "execution_count": 72,
     "metadata": {},
     "output_type": "execute_result"
    }
   ],
   "source": [
    "type(a1)"
   ]
  }
 ],
 "metadata": {
  "kernelspec": {
   "display_name": "Python 3 (ipykernel)",
   "language": "python",
   "name": "python3"
  },
  "language_info": {
   "codemirror_mode": {
    "name": "ipython",
    "version": 3
   },
   "file_extension": ".py",
   "mimetype": "text/x-python",
   "name": "python",
   "nbconvert_exporter": "python",
   "pygments_lexer": "ipython3",
   "version": "3.10.9"
  }
 },
 "nbformat": 4,
 "nbformat_minor": 5
}
