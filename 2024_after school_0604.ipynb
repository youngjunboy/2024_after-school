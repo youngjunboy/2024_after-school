{
 "cells": [
  {
   "cell_type": "code",
   "execution_count": 25,
   "id": "0b29af15",
   "metadata": {},
   "outputs": [
    {
     "name": "stdout",
     "output_type": "stream",
     "text": [
      "단어를 입력하세요 : l e v e l\n",
      "l 단어와 l 의 단어가 대칭 됩니다.\n",
      "대칭이 아닙니다 종료하겠습니다\n",
      "대칭이 아닙니다 종료하겠습니다\n",
      "e 단어와 e 의 단어가 대칭 됩니다.\n"
     ]
    }
   ],
   "source": [
    "word = input('단어를 입력하세요 : ').split(' ')\n",
    "\n",
    "for i in range(0,len(word)//2):\n",
    "    for j in range(-1,len(word)//-2,-1):\n",
    "        if word[i] == word[j]:\n",
    "            print(f'{word[i]} 단어와 {word[j]} 의 단어가 대칭 됩니다.')\n",
    "        else:\n",
    "            print(f'대칭이 아닙니다 종료하겠습니다')"
   ]
  },
  {
   "cell_type": "code",
   "execution_count": 45,
   "id": "0bed7ccb",
   "metadata": {},
   "outputs": [
    {
     "name": "stdout",
     "output_type": "stream",
     "text": [
      "단어를 입력하세요 : l e v e l\n",
      "대칭이 아닙니다.\n"
     ]
    }
   ],
   "source": [
    "word = input('단어를 입력하세요 : ').split(' ')\n",
    "\n",
    "for i in range(1,len(word)//2):\n",
    "        if word[i] == word[-i]:\n",
    "            print(f'{word[i]} 단어와 {word[j]} 의 단어가 대칭 됩니다.')\n",
    "        else:\n",
    "            print(f'대칭이 아닙니다.')"
   ]
  },
  {
   "cell_type": "code",
   "execution_count": 42,
   "id": "2403eb9f",
   "metadata": {},
   "outputs": [
    {
     "name": "stdout",
     "output_type": "stream",
     "text": [
      "단어를 입력하세요 : level\n",
      "True\n"
     ]
    }
   ],
   "source": [
    "word = input('단어를 입력하세요 : ')\n",
    "\n",
    "is_palindrome = True\n",
    "for i in range(len(word) // 2):\n",
    "    if word[i] != word[-1 - i]:\n",
    "        is_palindrom = False\n",
    "        break\n",
    "\n",
    "print(is_palindrome)"
   ]
  },
  {
   "cell_type": "code",
   "execution_count": 43,
   "id": "318b6bab",
   "metadata": {},
   "outputs": [
    {
     "name": "stdout",
     "output_type": "stream",
     "text": [
      "단어를 입력하세요 : level\n",
      "True\n"
     ]
    }
   ],
   "source": [
    "word = input('단어를 입력하세요 : ')\n",
    "if word == word[::-1]:\n",
    "    print('True')\n",
    "else:\n",
    "    print('False')"
   ]
  },
  {
   "cell_type": "code",
   "execution_count": 46,
   "id": "ced4ff5d",
   "metadata": {},
   "outputs": [
    {
     "name": "stdout",
     "output_type": "stream",
     "text": [
      "False\n"
     ]
    }
   ],
   "source": [
    "word = 'gogo'\n",
    "\n",
    "if(list(word)) == list(reversed(word)):\n",
    "    print('True')\n",
    "else:\n",
    "    print('False')"
   ]
  },
  {
   "cell_type": "code",
   "execution_count": 59,
   "id": "d6654df6",
   "metadata": {},
   "outputs": [
    {
     "name": "stdout",
     "output_type": "stream",
     "text": [
      "3 18\n",
      "4 6 8 10 12 14 16 18 "
     ]
    }
   ],
   "source": [
    "a, b = map(int, input().split())\n",
    "for i in range(a,b+1):\n",
    "    if i%2 == 0:\n",
    "        print(i,end=' ')"
   ]
  },
  {
   "cell_type": "code",
   "execution_count": null,
   "id": "8e195e8e",
   "metadata": {},
   "outputs": [],
   "source": []
  }
 ],
 "metadata": {
  "kernelspec": {
   "display_name": "Python 3 (ipykernel)",
   "language": "python",
   "name": "python3"
  },
  "language_info": {
   "codemirror_mode": {
    "name": "ipython",
    "version": 3
   },
   "file_extension": ".py",
   "mimetype": "text/x-python",
   "name": "python",
   "nbconvert_exporter": "python",
   "pygments_lexer": "ipython3",
   "version": "3.10.9"
  }
 },
 "nbformat": 4,
 "nbformat_minor": 5
}
