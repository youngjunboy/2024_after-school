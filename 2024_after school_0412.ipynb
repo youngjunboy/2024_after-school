{
 "cells": [
  {
   "cell_type": "markdown",
   "id": "acb643b2",
   "metadata": {},
   "source": [
    "# 2024_after school_0412"
   ]
  },
  {
   "cell_type": "code",
   "execution_count": 1,
   "id": "7e404143",
   "metadata": {
    "scrolled": true
   },
   "outputs": [
    {
     "data": {
      "text/plain": [
       "{'월': 'MON', '화': 'TUE', '수': 'WED'}"
      ]
     },
     "execution_count": 1,
     "metadata": {},
     "output_type": "execute_result"
    }
   ],
   "source": [
    "hong = {\"월\":\"MON\",\"화\":\"TUE\",\"수\":\"WED\"}\n",
    "hong"
   ]
  },
  {
   "cell_type": "code",
   "execution_count": 4,
   "id": "bb9f7bf3",
   "metadata": {},
   "outputs": [
    {
     "data": {
      "text/plain": [
       "'MON'"
      ]
     },
     "execution_count": 4,
     "metadata": {},
     "output_type": "execute_result"
    }
   ],
   "source": [
    "hong[\"월\"]"
   ]
  },
  {
   "cell_type": "code",
   "execution_count": 15,
   "id": "e8e29e26",
   "metadata": {},
   "outputs": [],
   "source": [
    "hong1 = {1:\"홍영준\",2:\"손재영\",3:\"박기수\",4:\"황성대\",5:\"양민석\",6:\"박세민\"}"
   ]
  },
  {
   "cell_type": "code",
   "execution_count": 16,
   "id": "96b5fe8e",
   "metadata": {},
   "outputs": [
    {
     "data": {
      "text/plain": [
       "'박기수'"
      ]
     },
     "execution_count": 16,
     "metadata": {},
     "output_type": "execute_result"
    }
   ],
   "source": [
    "hong1[3]"
   ]
  },
  {
   "cell_type": "code",
   "execution_count": 19,
   "id": "fcf45724",
   "metadata": {},
   "outputs": [
    {
     "name": "stdout",
     "output_type": "stream",
     "text": [
      "[1, 2, 3, 4, 5]\n"
     ]
    }
   ],
   "source": [
    "import shelve\n",
    "\n",
    "def save(key, value):\n",
    "    with shelve.open(\"shelve.dat\") as d:\n",
    "        d[key] = value\n",
    "        \n",
    "def get(key):\n",
    "    with shelve.open('shelve.dat') as d:\n",
    "        return d[key]\n",
    "    \n",
    "save(\"number\",[1,2,3,4,5])\n",
    "print(get('number'))   # [1,2,3,4,5] 출력"
   ]
  },
  {
   "cell_type": "code",
   "execution_count": 23,
   "id": "f8b7c206",
   "metadata": {},
   "outputs": [],
   "source": [
    "def add_student_info(student_dict):\n",
    "    # 학생 정보 입력 받기\n",
    "    student_number = input(\"학생 번호를 입력하세요 : \")\n",
    "    name = input(\"학생 이름을 입력하세요 : \")\n",
    "    age = input(\"학생 나이을 입력하세요 : \")\n",
    "    major = (\"학생 전공을 입력하세요 : \")\n",
    "    # 학생 정보를 딕셔너리에 추가\n",
    "    student_dict[student_number] = {'name':name,'age':age,'major':major}\n",
    "def search_student_info(student_dict):\n",
    "    # 검색할 학생 정보 입력 받기\n",
    "    student_number = input(\"검색할 학생 번호를 입력하세요 : \")\n",
    "    # 학생 정보 출력\n",
    "    if student_number in student_dict:\n",
    "        info = student_dict[student_number]\n",
    "        print(f\"학생 번호 : {student_number}, 이름 : {info['name']}, 나이 : {info['age']}, 전공 : {info['major']}\")\n",
    "    else:\n",
    "            print(\"해당하는 학생의 정보를 찾을 수 없습니다.\")"
   ]
  },
  {
   "cell_type": "code",
   "execution_count": 31,
   "id": "44ee61f8",
   "metadata": {},
   "outputs": [],
   "source": [
    "def main():\n",
    "    # shelve 파일 열기 (파일이 없으면 새로 생성됨)\n",
    "    with shelve.open('student_doto') as shelf:\n",
    "        # 저장된 학생 정보가 있는지 확인\n",
    "        if 'students' not in shelf:\n",
    "            shelf['student'] = {}\n",
    "         # 학생 정보 딕셔너리 가져오기\n",
    "        student_dict = shelf['students']\n",
    "        while True:\n",
    "            print(\"|n1.학생 정보 추가\")\n",
    "            print(\"2. 학생 정보 검색\")\n",
    "            print(\"3. 종료\")\n",
    "            \n",
    "            choice = input(\"선택하세요 : \")\n",
    "            \n",
    "            if choice == '1':\n",
    "                add_student_info(student_dict)\n",
    "            elif choice == '2':\n",
    "                search_student_info(student_dict)\n",
    "            elif choice == '3':\n",
    "                break\n",
    "            else:\n",
    "                print(\"올바른 선택이 아닙니다. 다시 선택해 주세요.\")\n",
    "            # 학생 정보 딕셔너리 저장\n",
    "            shelf['student'] = student_dict\n",
    "            \n",
    "            if __name__ == \"__main__\":\n",
    "                main()"
   ]
  }
 ],
 "metadata": {
  "kernelspec": {
   "display_name": "Python 3 (ipykernel)",
   "language": "python",
   "name": "python3"
  },
  "language_info": {
   "codemirror_mode": {
    "name": "ipython",
    "version": 3
   },
   "file_extension": ".py",
   "mimetype": "text/x-python",
   "name": "python",
   "nbconvert_exporter": "python",
   "pygments_lexer": "ipython3",
   "version": "3.10.9"
  }
 },
 "nbformat": 4,
 "nbformat_minor": 5
}
